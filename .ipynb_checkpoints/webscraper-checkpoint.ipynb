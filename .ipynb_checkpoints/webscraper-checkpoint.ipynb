{
 "cells": [
  {
   "cell_type": "code",
   "execution_count": 1,
   "id": "2c7dc7a1-42dc-43fa-97e4-cd946e96a501",
   "metadata": {},
   "outputs": [
    {
     "name": "stdout",
     "output_type": "stream",
     "text": [
      "error retrieving page:403 Client Error: Forbidden for url: https://www.france24.com/en/middle-east/20250608-israel-orders-military-block-aid-flotilla-carrying-greta-thunberg-gaza-freedom-flotilla-coalition-madleen\n"
     ]
    }
   ],
   "source": [
    "import requests\n",
    "article_url=\"https://www.france24.com/en/middle-east/20250608-israel-orders-military-block-aid-flotilla-carrying-greta-thunberg-gaza-freedom-flotilla-coalition-madleen\"\n",
    "try:\n",
    "    headers = {\n",
    "    'User-Agent': 'Mozilla/5.0'\n",
    "}\n",
    "    response=requests.get(article_url,headers=headers)\n",
    "    response.raise_for_status()\n",
    "    html_content=response.text\n",
    "    print(\"html content sucefully retrieved\")\n",
    "except requests.exceptions.RequestException as e:\n",
    "    print(f\"error retrieving page:{e}\")\n",
    "    html_content=None\n",
    "     "
   ]
  },
  {
   "cell_type": "code",
   "execution_count": null,
   "id": "9a0134a2-0dbd-4d7a-89fe-e95b3d453dd0",
   "metadata": {},
   "outputs": [],
   "source": []
  }
 ],
 "metadata": {
  "kernelspec": {
   "display_name": "Python 3 (ipykernel)",
   "language": "python",
   "name": "python3"
  },
  "language_info": {
   "codemirror_mode": {
    "name": "ipython",
    "version": 3
   },
   "file_extension": ".py",
   "mimetype": "text/x-python",
   "name": "python",
   "nbconvert_exporter": "python",
   "pygments_lexer": "ipython3",
   "version": "3.12.2"
  }
 },
 "nbformat": 4,
 "nbformat_minor": 5
}
